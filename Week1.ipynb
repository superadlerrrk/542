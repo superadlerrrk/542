{
 "cells": [
  {
   "cell_type": "code",
   "execution_count": 2,
   "id": "881c18f7",
   "metadata": {
    "scrolled": true
   },
   "outputs": [
    {
     "name": "stdout",
     "output_type": "stream",
     "text": [
      "zsh:1: command not found: pip\r\n"
     ]
    }
   ],
   "source": [
    "!pip show pandas"
   ]
  },
  {
   "cell_type": "code",
   "execution_count": 3,
   "id": "c64fa41c",
   "metadata": {},
   "outputs": [],
   "source": [
    "import pandas as pd"
   ]
  },
  {
   "cell_type": "code",
   "execution_count": 4,
   "id": "d48a76c4",
   "metadata": {},
   "outputs": [],
   "source": [
    "gitCloudRepo = 'https://github.com/superadlerrrk/542/raw/main/week1/'\n",
    "fileName = 'HSBfromGoogle.csv'"
   ]
  },
  {
   "cell_type": "code",
   "execution_count": 5,
   "id": "86df62ad",
   "metadata": {},
   "outputs": [],
   "source": [
    "DFcsv = pd.read_csv(gitCloudRepo + fileName)"
   ]
  },
  {
   "cell_type": "code",
   "execution_count": 6,
   "id": "10528178",
   "metadata": {},
   "outputs": [
    {
     "data": {
      "text/plain": [
       "(600, 15)"
      ]
     },
     "execution_count": 6,
     "metadata": {},
     "output_type": "execute_result"
    }
   ],
   "source": [
    "DFcsv.shape"
   ]
  },
  {
   "cell_type": "code",
   "execution_count": 7,
   "id": "93f1f463",
   "metadata": {},
   "outputs": [
    {
     "data": {
      "text/html": [
       "<div>\n",
       "<style scoped>\n",
       "    .dataframe tbody tr th:only-of-type {\n",
       "        vertical-align: middle;\n",
       "    }\n",
       "\n",
       "    .dataframe tbody tr th {\n",
       "        vertical-align: top;\n",
       "    }\n",
       "\n",
       "    .dataframe thead th {\n",
       "        text-align: right;\n",
       "    }\n",
       "</style>\n",
       "<table border=\"1\" class=\"dataframe\">\n",
       "  <thead>\n",
       "    <tr style=\"text-align: right;\">\n",
       "      <th></th>\n",
       "      <th>id</th>\n",
       "      <th>sex</th>\n",
       "      <th>race</th>\n",
       "      <th>ses</th>\n",
       "      <th>sctyp</th>\n",
       "      <th>hsp</th>\n",
       "      <th>locus</th>\n",
       "      <th>concpt</th>\n",
       "      <th>mot</th>\n",
       "      <th>car</th>\n",
       "      <th>rdg</th>\n",
       "      <th>wrtg</th>\n",
       "      <th>math</th>\n",
       "      <th>sci</th>\n",
       "      <th>civ</th>\n",
       "    </tr>\n",
       "  </thead>\n",
       "  <tbody>\n",
       "    <tr>\n",
       "      <th>0</th>\n",
       "      <td>1</td>\n",
       "      <td>Female</td>\n",
       "      <td>Asian</td>\n",
       "      <td>Low</td>\n",
       "      <td>Public</td>\n",
       "      <td>Vocational/Technical</td>\n",
       "      <td>0.29</td>\n",
       "      <td>0.88</td>\n",
       "      <td>0.67</td>\n",
       "      <td>Professional_2</td>\n",
       "      <td>33.6</td>\n",
       "      <td>43.7</td>\n",
       "      <td>40.2</td>\n",
       "      <td>39.0</td>\n",
       "      <td>40.6</td>\n",
       "    </tr>\n",
       "    <tr>\n",
       "      <th>1</th>\n",
       "      <td>2</td>\n",
       "      <td>Male</td>\n",
       "      <td>Asian</td>\n",
       "      <td>Low</td>\n",
       "      <td>Public</td>\n",
       "      <td>Academic preparatory</td>\n",
       "      <td>-0.42</td>\n",
       "      <td>0.03</td>\n",
       "      <td>0.33</td>\n",
       "      <td>Craftsman</td>\n",
       "      <td>46.9</td>\n",
       "      <td>35.9</td>\n",
       "      <td>41.9</td>\n",
       "      <td>36.3</td>\n",
       "      <td>45.6</td>\n",
       "    </tr>\n",
       "    <tr>\n",
       "      <th>2</th>\n",
       "      <td>3</td>\n",
       "      <td>Female</td>\n",
       "      <td>Asian</td>\n",
       "      <td>Low</td>\n",
       "      <td>Public</td>\n",
       "      <td>Academic preparatory</td>\n",
       "      <td>0.71</td>\n",
       "      <td>0.03</td>\n",
       "      <td>0.67</td>\n",
       "      <td>Professional_1</td>\n",
       "      <td>41.6</td>\n",
       "      <td>59.3</td>\n",
       "      <td>41.9</td>\n",
       "      <td>44.4</td>\n",
       "      <td>45.6</td>\n",
       "    </tr>\n",
       "    <tr>\n",
       "      <th>3</th>\n",
       "      <td>4</td>\n",
       "      <td>Female</td>\n",
       "      <td>Asian</td>\n",
       "      <td>Medium</td>\n",
       "      <td>Public</td>\n",
       "      <td>Vocational/Technical</td>\n",
       "      <td>0.06</td>\n",
       "      <td>0.03</td>\n",
       "      <td>0.00</td>\n",
       "      <td>Service</td>\n",
       "      <td>38.9</td>\n",
       "      <td>41.1</td>\n",
       "      <td>32.7</td>\n",
       "      <td>41.7</td>\n",
       "      <td>40.6</td>\n",
       "    </tr>\n",
       "    <tr>\n",
       "      <th>4</th>\n",
       "      <td>5</td>\n",
       "      <td>Female</td>\n",
       "      <td>Asian</td>\n",
       "      <td>Medium</td>\n",
       "      <td>Public</td>\n",
       "      <td>Vocational/Technical</td>\n",
       "      <td>0.22</td>\n",
       "      <td>-0.28</td>\n",
       "      <td>0.00</td>\n",
       "      <td>Clerical</td>\n",
       "      <td>36.3</td>\n",
       "      <td>48.9</td>\n",
       "      <td>39.5</td>\n",
       "      <td>41.7</td>\n",
       "      <td>45.6</td>\n",
       "    </tr>\n",
       "    <tr>\n",
       "      <th>5</th>\n",
       "      <td>6</td>\n",
       "      <td>Male</td>\n",
       "      <td>Asian</td>\n",
       "      <td>Medium</td>\n",
       "      <td>Public</td>\n",
       "      <td>Academic preparatory</td>\n",
       "      <td>0.46</td>\n",
       "      <td>0.03</td>\n",
       "      <td>0.00</td>\n",
       "      <td>Proprietor</td>\n",
       "      <td>49.5</td>\n",
       "      <td>46.3</td>\n",
       "      <td>46.2</td>\n",
       "      <td>41.7</td>\n",
       "      <td>35.6</td>\n",
       "    </tr>\n",
       "    <tr>\n",
       "      <th>6</th>\n",
       "      <td>7</td>\n",
       "      <td>Male</td>\n",
       "      <td>Asian</td>\n",
       "      <td>Low</td>\n",
       "      <td>Public</td>\n",
       "      <td>General</td>\n",
       "      <td>0.44</td>\n",
       "      <td>-0.47</td>\n",
       "      <td>0.33</td>\n",
       "      <td>Professional_2</td>\n",
       "      <td>62.7</td>\n",
       "      <td>64.5</td>\n",
       "      <td>48.0</td>\n",
       "      <td>63.4</td>\n",
       "      <td>55.6</td>\n",
       "    </tr>\n",
       "    <tr>\n",
       "      <th>7</th>\n",
       "      <td>8</td>\n",
       "      <td>Female</td>\n",
       "      <td>Asian</td>\n",
       "      <td>Low</td>\n",
       "      <td>Public</td>\n",
       "      <td>General</td>\n",
       "      <td>0.68</td>\n",
       "      <td>0.25</td>\n",
       "      <td>1.00</td>\n",
       "      <td>Professional_1</td>\n",
       "      <td>44.2</td>\n",
       "      <td>51.5</td>\n",
       "      <td>36.9</td>\n",
       "      <td>49.8</td>\n",
       "      <td>55.6</td>\n",
       "    </tr>\n",
       "    <tr>\n",
       "      <th>8</th>\n",
       "      <td>9</td>\n",
       "      <td>Male</td>\n",
       "      <td>Asian</td>\n",
       "      <td>Medium</td>\n",
       "      <td>Public</td>\n",
       "      <td>General</td>\n",
       "      <td>0.06</td>\n",
       "      <td>0.56</td>\n",
       "      <td>0.33</td>\n",
       "      <td>Professional_1</td>\n",
       "      <td>46.9</td>\n",
       "      <td>41.1</td>\n",
       "      <td>45.3</td>\n",
       "      <td>47.1</td>\n",
       "      <td>55.6</td>\n",
       "    </tr>\n",
       "    <tr>\n",
       "      <th>9</th>\n",
       "      <td>10</td>\n",
       "      <td>Female</td>\n",
       "      <td>Asian</td>\n",
       "      <td>Low</td>\n",
       "      <td>Public</td>\n",
       "      <td>General</td>\n",
       "      <td>0.05</td>\n",
       "      <td>0.15</td>\n",
       "      <td>1.00</td>\n",
       "      <td>Proprietor</td>\n",
       "      <td>44.2</td>\n",
       "      <td>49.5</td>\n",
       "      <td>40.5</td>\n",
       "      <td>39.0</td>\n",
       "      <td>50.6</td>\n",
       "    </tr>\n",
       "  </tbody>\n",
       "</table>\n",
       "</div>"
      ],
      "text/plain": [
       "   id     sex   race     ses   sctyp                   hsp  locus  concpt  \\\n",
       "0   1  Female  Asian     Low  Public  Vocational/Technical   0.29    0.88   \n",
       "1   2    Male  Asian     Low  Public  Academic preparatory  -0.42    0.03   \n",
       "2   3  Female  Asian     Low  Public  Academic preparatory   0.71    0.03   \n",
       "3   4  Female  Asian  Medium  Public  Vocational/Technical   0.06    0.03   \n",
       "4   5  Female  Asian  Medium  Public  Vocational/Technical   0.22   -0.28   \n",
       "5   6    Male  Asian  Medium  Public  Academic preparatory   0.46    0.03   \n",
       "6   7    Male  Asian     Low  Public               General   0.44   -0.47   \n",
       "7   8  Female  Asian     Low  Public               General   0.68    0.25   \n",
       "8   9    Male  Asian  Medium  Public               General   0.06    0.56   \n",
       "9  10  Female  Asian     Low  Public               General   0.05    0.15   \n",
       "\n",
       "    mot             car   rdg  wrtg  math   sci   civ  \n",
       "0  0.67  Professional_2  33.6  43.7  40.2  39.0  40.6  \n",
       "1  0.33       Craftsman  46.9  35.9  41.9  36.3  45.6  \n",
       "2  0.67  Professional_1  41.6  59.3  41.9  44.4  45.6  \n",
       "3  0.00         Service  38.9  41.1  32.7  41.7  40.6  \n",
       "4  0.00        Clerical  36.3  48.9  39.5  41.7  45.6  \n",
       "5  0.00      Proprietor  49.5  46.3  46.2  41.7  35.6  \n",
       "6  0.33  Professional_2  62.7  64.5  48.0  63.4  55.6  \n",
       "7  1.00  Professional_1  44.2  51.5  36.9  49.8  55.6  \n",
       "8  0.33  Professional_1  46.9  41.1  45.3  47.1  55.6  \n",
       "9  1.00      Proprietor  44.2  49.5  40.5  39.0  50.6  "
      ]
     },
     "execution_count": 7,
     "metadata": {},
     "output_type": "execute_result"
    }
   ],
   "source": [
    "DFcsv.head(10)"
   ]
  },
  {
   "cell_type": "code",
   "execution_count": 8,
   "id": "6c7183e0",
   "metadata": {},
   "outputs": [
    {
     "data": {
      "text/html": [
       "<div>\n",
       "<style scoped>\n",
       "    .dataframe tbody tr th:only-of-type {\n",
       "        vertical-align: middle;\n",
       "    }\n",
       "\n",
       "    .dataframe tbody tr th {\n",
       "        vertical-align: top;\n",
       "    }\n",
       "\n",
       "    .dataframe thead th {\n",
       "        text-align: right;\n",
       "    }\n",
       "</style>\n",
       "<table border=\"1\" class=\"dataframe\">\n",
       "  <thead>\n",
       "    <tr style=\"text-align: right;\">\n",
       "      <th></th>\n",
       "      <th>id</th>\n",
       "      <th>sex</th>\n",
       "      <th>race</th>\n",
       "      <th>ses</th>\n",
       "      <th>sctyp</th>\n",
       "      <th>hsp</th>\n",
       "      <th>locus</th>\n",
       "      <th>concpt</th>\n",
       "      <th>mot</th>\n",
       "      <th>car</th>\n",
       "      <th>rdg</th>\n",
       "      <th>wrtg</th>\n",
       "      <th>math</th>\n",
       "      <th>sci</th>\n",
       "      <th>civ</th>\n",
       "    </tr>\n",
       "  </thead>\n",
       "  <tbody>\n",
       "    <tr>\n",
       "      <th>595</th>\n",
       "      <td>596</td>\n",
       "      <td>Male</td>\n",
       "      <td>Hispanic</td>\n",
       "      <td>High</td>\n",
       "      <td>Private</td>\n",
       "      <td>General</td>\n",
       "      <td>0.27</td>\n",
       "      <td>-1.05</td>\n",
       "      <td>0.33</td>\n",
       "      <td>Professional_1</td>\n",
       "      <td>60.1</td>\n",
       "      <td>54.1</td>\n",
       "      <td>56.3</td>\n",
       "      <td>55.3</td>\n",
       "      <td>55.6</td>\n",
       "    </tr>\n",
       "    <tr>\n",
       "      <th>596</th>\n",
       "      <td>597</td>\n",
       "      <td>Male</td>\n",
       "      <td>Hispanic</td>\n",
       "      <td>Medium</td>\n",
       "      <td>Private</td>\n",
       "      <td>General</td>\n",
       "      <td>0.55</td>\n",
       "      <td>0.34</td>\n",
       "      <td>1.00</td>\n",
       "      <td>Technical</td>\n",
       "      <td>62.7</td>\n",
       "      <td>61.9</td>\n",
       "      <td>72.9</td>\n",
       "      <td>63.4</td>\n",
       "      <td>55.6</td>\n",
       "    </tr>\n",
       "    <tr>\n",
       "      <th>597</th>\n",
       "      <td>598</td>\n",
       "      <td>Male</td>\n",
       "      <td>Hispanic</td>\n",
       "      <td>Medium</td>\n",
       "      <td>Private</td>\n",
       "      <td>General</td>\n",
       "      <td>-0.61</td>\n",
       "      <td>0.34</td>\n",
       "      <td>0.67</td>\n",
       "      <td>Technical</td>\n",
       "      <td>68.0</td>\n",
       "      <td>54.1</td>\n",
       "      <td>74.6</td>\n",
       "      <td>66.1</td>\n",
       "      <td>65.5</td>\n",
       "    </tr>\n",
       "    <tr>\n",
       "      <th>598</th>\n",
       "      <td>599</td>\n",
       "      <td>Female</td>\n",
       "      <td>Hispanic</td>\n",
       "      <td>Medium</td>\n",
       "      <td>Private</td>\n",
       "      <td>General</td>\n",
       "      <td>0.23</td>\n",
       "      <td>0.94</td>\n",
       "      <td>1.00</td>\n",
       "      <td>Professional_2</td>\n",
       "      <td>57.4</td>\n",
       "      <td>67.1</td>\n",
       "      <td>57.9</td>\n",
       "      <td>60.7</td>\n",
       "      <td>55.6</td>\n",
       "    </tr>\n",
       "    <tr>\n",
       "      <th>599</th>\n",
       "      <td>600</td>\n",
       "      <td>Male</td>\n",
       "      <td>Hispanic</td>\n",
       "      <td>Medium</td>\n",
       "      <td>Private</td>\n",
       "      <td>General</td>\n",
       "      <td>0.02</td>\n",
       "      <td>0.03</td>\n",
       "      <td>0.33</td>\n",
       "      <td>Professional_1</td>\n",
       "      <td>62.7</td>\n",
       "      <td>54.1</td>\n",
       "      <td>64.7</td>\n",
       "      <td>58.0</td>\n",
       "      <td>50.6</td>\n",
       "    </tr>\n",
       "  </tbody>\n",
       "</table>\n",
       "</div>"
      ],
      "text/plain": [
       "      id     sex      race     ses    sctyp      hsp  locus  concpt   mot  \\\n",
       "595  596    Male  Hispanic    High  Private  General   0.27   -1.05  0.33   \n",
       "596  597    Male  Hispanic  Medium  Private  General   0.55    0.34  1.00   \n",
       "597  598    Male  Hispanic  Medium  Private  General  -0.61    0.34  0.67   \n",
       "598  599  Female  Hispanic  Medium  Private  General   0.23    0.94  1.00   \n",
       "599  600    Male  Hispanic  Medium  Private  General   0.02    0.03  0.33   \n",
       "\n",
       "                car   rdg  wrtg  math   sci   civ  \n",
       "595  Professional_1  60.1  54.1  56.3  55.3  55.6  \n",
       "596       Technical  62.7  61.9  72.9  63.4  55.6  \n",
       "597       Technical  68.0  54.1  74.6  66.1  65.5  \n",
       "598  Professional_2  57.4  67.1  57.9  60.7  55.6  \n",
       "599  Professional_1  62.7  54.1  64.7  58.0  50.6  "
      ]
     },
     "execution_count": 8,
     "metadata": {},
     "output_type": "execute_result"
    }
   ],
   "source": [
    "DFcsv.tail(5)"
   ]
  },
  {
   "cell_type": "code",
   "execution_count": 9,
   "id": "0b239a24",
   "metadata": {},
   "outputs": [
    {
     "data": {
      "text/plain": [
       "Index(['id', 'sex', 'race', 'ses', 'sctyp', 'hsp', 'locus', 'concpt', 'mot',\n",
       "       'car', 'rdg', 'wrtg', 'math', 'sci', 'civ'],\n",
       "      dtype='object')"
      ]
     },
     "execution_count": 9,
     "metadata": {},
     "output_type": "execute_result"
    }
   ],
   "source": [
    "DFcsv.columns"
   ]
  },
  {
   "cell_type": "code",
   "execution_count": 10,
   "id": "598df9f0",
   "metadata": {},
   "outputs": [
    {
     "data": {
      "text/plain": [
       "0      Female\n",
       "1        Male\n",
       "2      Female\n",
       "3      Female\n",
       "4      Female\n",
       "        ...  \n",
       "595      Male\n",
       "596      Male\n",
       "597      Male\n",
       "598    Female\n",
       "599      Male\n",
       "Name: sex, Length: 600, dtype: object"
      ]
     },
     "execution_count": 10,
     "metadata": {},
     "output_type": "execute_result"
    }
   ],
   "source": [
    "DFcsv.iloc[:,1]"
   ]
  },
  {
   "cell_type": "code",
   "execution_count": 11,
   "id": "2f7575d6",
   "metadata": {},
   "outputs": [
    {
     "data": {
      "text/plain": [
       "0    Female\n",
       "1      Male\n",
       "2    Female\n",
       "3    Female\n",
       "Name: sex, dtype: object"
      ]
     },
     "execution_count": 11,
     "metadata": {},
     "output_type": "execute_result"
    }
   ],
   "source": [
    "DFcsv.iloc[:,1].head(4)"
   ]
  },
  {
   "cell_type": "code",
   "execution_count": 12,
   "id": "dc9f1929",
   "metadata": {},
   "outputs": [
    {
     "data": {
      "text/plain": [
       "0    Vocational/Technical\n",
       "1    Academic preparatory\n",
       "2    Academic preparatory\n",
       "3    Vocational/Technical\n",
       "Name: hsp, dtype: object"
      ]
     },
     "execution_count": 12,
     "metadata": {},
     "output_type": "execute_result"
    }
   ],
   "source": [
    "DFcsv.iloc[:,5].head(4)"
   ]
  },
  {
   "cell_type": "code",
   "execution_count": 13,
   "id": "39c3b8ef",
   "metadata": {},
   "outputs": [
    {
     "data": {
      "text/plain": [
       "0      0.88\n",
       "1      0.03\n",
       "2      0.03\n",
       "3      0.03\n",
       "4     -0.28\n",
       "       ... \n",
       "595   -1.05\n",
       "596    0.34\n",
       "597    0.34\n",
       "598    0.94\n",
       "599    0.03\n",
       "Name: concpt, Length: 600, dtype: float64"
      ]
     },
     "execution_count": 13,
     "metadata": {},
     "output_type": "execute_result"
    }
   ],
   "source": [
    "DFcsv.loc[:,'concpt']"
   ]
  },
  {
   "cell_type": "code",
   "execution_count": 14,
   "id": "00173e26",
   "metadata": {},
   "outputs": [
    {
     "data": {
      "text/html": [
       "<div>\n",
       "<style scoped>\n",
       "    .dataframe tbody tr th:only-of-type {\n",
       "        vertical-align: middle;\n",
       "    }\n",
       "\n",
       "    .dataframe tbody tr th {\n",
       "        vertical-align: top;\n",
       "    }\n",
       "\n",
       "    .dataframe thead th {\n",
       "        text-align: right;\n",
       "    }\n",
       "</style>\n",
       "<table border=\"1\" class=\"dataframe\">\n",
       "  <thead>\n",
       "    <tr style=\"text-align: right;\">\n",
       "      <th></th>\n",
       "      <th>sctyp</th>\n",
       "    </tr>\n",
       "  </thead>\n",
       "  <tbody>\n",
       "    <tr>\n",
       "      <th>0</th>\n",
       "      <td>Public</td>\n",
       "    </tr>\n",
       "    <tr>\n",
       "      <th>1</th>\n",
       "      <td>Public</td>\n",
       "    </tr>\n",
       "    <tr>\n",
       "      <th>2</th>\n",
       "      <td>Public</td>\n",
       "    </tr>\n",
       "    <tr>\n",
       "      <th>3</th>\n",
       "      <td>Public</td>\n",
       "    </tr>\n",
       "    <tr>\n",
       "      <th>4</th>\n",
       "      <td>Public</td>\n",
       "    </tr>\n",
       "    <tr>\n",
       "      <th>...</th>\n",
       "      <td>...</td>\n",
       "    </tr>\n",
       "    <tr>\n",
       "      <th>595</th>\n",
       "      <td>Private</td>\n",
       "    </tr>\n",
       "    <tr>\n",
       "      <th>596</th>\n",
       "      <td>Private</td>\n",
       "    </tr>\n",
       "    <tr>\n",
       "      <th>597</th>\n",
       "      <td>Private</td>\n",
       "    </tr>\n",
       "    <tr>\n",
       "      <th>598</th>\n",
       "      <td>Private</td>\n",
       "    </tr>\n",
       "    <tr>\n",
       "      <th>599</th>\n",
       "      <td>Private</td>\n",
       "    </tr>\n",
       "  </tbody>\n",
       "</table>\n",
       "<p>600 rows × 1 columns</p>\n",
       "</div>"
      ],
      "text/plain": [
       "       sctyp\n",
       "0     Public\n",
       "1     Public\n",
       "2     Public\n",
       "3     Public\n",
       "4     Public\n",
       "..       ...\n",
       "595  Private\n",
       "596  Private\n",
       "597  Private\n",
       "598  Private\n",
       "599  Private\n",
       "\n",
       "[600 rows x 1 columns]"
      ]
     },
     "execution_count": 14,
     "metadata": {},
     "output_type": "execute_result"
    }
   ],
   "source": [
    "DFcsv[['sctyp']]"
   ]
  },
  {
   "cell_type": "code",
   "execution_count": 15,
   "id": "171f4a45",
   "metadata": {},
   "outputs": [
    {
     "data": {
      "text/plain": [
       "pandas.core.frame.DataFrame"
      ]
     },
     "execution_count": 15,
     "metadata": {},
     "output_type": "execute_result"
    }
   ],
   "source": [
    "type(DFcsv)"
   ]
  },
  {
   "cell_type": "code",
   "execution_count": 16,
   "id": "e4ea5e91",
   "metadata": {},
   "outputs": [
    {
     "name": "stdout",
     "output_type": "stream",
     "text": [
      "<class 'pandas.core.frame.DataFrame'>\n",
      "RangeIndex: 600 entries, 0 to 599\n",
      "Data columns (total 15 columns):\n",
      " #   Column  Non-Null Count  Dtype  \n",
      "---  ------  --------------  -----  \n",
      " 0   id      600 non-null    int64  \n",
      " 1   sex     600 non-null    object \n",
      " 2   race    600 non-null    object \n",
      " 3   ses     600 non-null    object \n",
      " 4   sctyp   600 non-null    object \n",
      " 5   hsp     600 non-null    object \n",
      " 6   locus   600 non-null    float64\n",
      " 7   concpt  600 non-null    float64\n",
      " 8   mot     600 non-null    float64\n",
      " 9   car     600 non-null    object \n",
      " 10  rdg     600 non-null    float64\n",
      " 11  wrtg    600 non-null    float64\n",
      " 12  math    600 non-null    float64\n",
      " 13  sci     600 non-null    float64\n",
      " 14  civ     600 non-null    float64\n",
      "dtypes: float64(8), int64(1), object(6)\n",
      "memory usage: 70.4+ KB\n"
     ]
    }
   ],
   "source": [
    "DFcsv.info()"
   ]
  },
  {
   "cell_type": "code",
   "execution_count": 17,
   "id": "7caa884c",
   "metadata": {},
   "outputs": [],
   "source": [
    "gitCloudRepo = 'https://github.com/superadlerrrk/542/blob/main/week1/'\n",
    "fileName = 'hsb_ok.dta?raw=true'\n"
   ]
  },
  {
   "cell_type": "code",
   "execution_count": 18,
   "id": "8c1cbb34",
   "metadata": {},
   "outputs": [],
   "source": [
    "DFdta = pd.read_stata(gitCloudRepo + fileName)"
   ]
  },
  {
   "cell_type": "code",
   "execution_count": 19,
   "id": "a742f726",
   "metadata": {},
   "outputs": [
    {
     "data": {
      "text/plain": [
       "<bound method NDFrame.tail of         id     sex      race     ses    sctyp                   hsp  locus  \\\n",
       "0        1  Female     Asian     Low   Public  Vocational/Technical   0.29   \n",
       "1        2    Male     Asian     Low   Public  Academic preparatory  -0.42   \n",
       "2        3  Female     Asian     Low   Public  Academic preparatory   0.71   \n",
       "3        4  Female     Asian  Medium   Public  Vocational/Technical   0.06   \n",
       "4        5  Female     Asian  Medium   Public  Vocational/Technical   0.22   \n",
       "..     ...     ...       ...     ...      ...                   ...    ...   \n",
       "595    596    Male  Hispanic    High  Private               General   0.27   \n",
       "596    597    Male  Hispanic  Medium  Private               General   0.55   \n",
       "597    598    Male  Hispanic  Medium  Private               General  -0.61   \n",
       "598    599  Female  Hispanic  Medium  Private               General   0.23   \n",
       "599    600    Male  Hispanic  Medium  Private               General   0.02   \n",
       "\n",
       "     concpt   mot             car   rdg  wrtg  math   sci   civ  \n",
       "0      0.88  0.67  Professional_2  33.6  43.7  40.2  39.0  40.6  \n",
       "1      0.03  0.33       Craftsman  46.9  35.9  41.9  36.3  45.6  \n",
       "2      0.03  0.67  Professional_1  41.6  59.3  41.9  44.4  45.6  \n",
       "3      0.03  0.00         Service  38.9  41.1  32.7  41.7  40.6  \n",
       "4     -0.28  0.00        Clerical  36.3  48.9  39.5  41.7  45.6  \n",
       "..      ...   ...             ...   ...   ...   ...   ...   ...  \n",
       "595   -1.05  0.33  Professional_1  60.1  54.1  56.3  55.3  55.6  \n",
       "596    0.34  1.00       Technical  62.7  61.9  72.9  63.4  55.6  \n",
       "597    0.34  0.67       Technical  68.0  54.1  74.6  66.1  65.5  \n",
       "598    0.94  1.00  Professional_2  57.4  67.1  57.9  60.7  55.6  \n",
       "599    0.03  0.33  Professional_1  62.7  54.1  64.7  58.0  50.6  \n",
       "\n",
       "[600 rows x 15 columns]>"
      ]
     },
     "execution_count": 19,
     "metadata": {},
     "output_type": "execute_result"
    }
   ],
   "source": [
    "DFdta.tail"
   ]
  },
  {
   "cell_type": "code",
   "execution_count": 20,
   "id": "1c15159e",
   "metadata": {},
   "outputs": [
    {
     "data": {
      "text/plain": [
       "(600, 15)"
      ]
     },
     "execution_count": 20,
     "metadata": {},
     "output_type": "execute_result"
    }
   ],
   "source": [
    "DFdta.shape"
   ]
  },
  {
   "cell_type": "code",
   "execution_count": 21,
   "id": "443fd95a",
   "metadata": {},
   "outputs": [
    {
     "data": {
      "text/plain": [
       "0       Public\n",
       "1       Public\n",
       "2       Public\n",
       "3       Public\n",
       "4       Public\n",
       "        ...   \n",
       "595    Private\n",
       "596    Private\n",
       "597    Private\n",
       "598    Private\n",
       "599    Private\n",
       "Name: sctyp, Length: 600, dtype: category\n",
       "Categories (2, object): ['Public' < 'Private']"
      ]
     },
     "execution_count": 21,
     "metadata": {},
     "output_type": "execute_result"
    }
   ],
   "source": [
    "DFdta.iloc[:,4]"
   ]
  },
  {
   "cell_type": "code",
   "execution_count": 22,
   "id": "bbbbfbcb",
   "metadata": {},
   "outputs": [
    {
     "data": {
      "text/plain": [
       "Index(['id', 'sex', 'race', 'ses', 'sctyp', 'hsp', 'locus', 'concpt', 'mot',\n",
       "       'car', 'rdg', 'wrtg', 'math', 'sci', 'civ'],\n",
       "      dtype='object')"
      ]
     },
     "execution_count": 22,
     "metadata": {},
     "output_type": "execute_result"
    }
   ],
   "source": [
    "DFdta.columns"
   ]
  },
  {
   "cell_type": "code",
   "execution_count": 23,
   "id": "acd45e02",
   "metadata": {},
   "outputs": [
    {
     "data": {
      "text/plain": [
       "3    Asian\n",
       "4    Asian\n",
       "5    Asian\n",
       "Name: race, dtype: category\n",
       "Categories (4, object): ['Hispanic' < 'Asian' < 'Black' < 'White']"
      ]
     },
     "execution_count": 23,
     "metadata": {},
     "output_type": "execute_result"
    }
   ],
   "source": [
    "DFdta.loc[:,'race'].head(6).tail(3)"
   ]
  },
  {
   "cell_type": "code",
   "execution_count": 24,
   "id": "25fbd7d3",
   "metadata": {},
   "outputs": [
    {
     "name": "stdout",
     "output_type": "stream",
     "text": [
      "Requirement already satisfied: sodapy in /Users/adlerkang/opt/anaconda3/lib/python3.9/site-packages (2.2.0)\n",
      "Requirement already satisfied: requests>=2.28.1 in /Users/adlerkang/opt/anaconda3/lib/python3.9/site-packages (from sodapy) (2.28.1)\n",
      "Requirement already satisfied: certifi>=2017.4.17 in /Users/adlerkang/opt/anaconda3/lib/python3.9/site-packages (from requests>=2.28.1->sodapy) (2022.9.24)\n",
      "Requirement already satisfied: urllib3<1.27,>=1.21.1 in /Users/adlerkang/opt/anaconda3/lib/python3.9/site-packages (from requests>=2.28.1->sodapy) (1.26.11)\n",
      "Requirement already satisfied: charset-normalizer<3,>=2 in /Users/adlerkang/opt/anaconda3/lib/python3.9/site-packages (from requests>=2.28.1->sodapy) (2.0.4)\n",
      "Requirement already satisfied: idna<4,>=2.5 in /Users/adlerkang/opt/anaconda3/lib/python3.9/site-packages (from requests>=2.28.1->sodapy) (3.3)\n",
      "Note: you may need to restart the kernel to use updated packages.\n"
     ]
    }
   ],
   "source": [
    "pip install sodapy"
   ]
  },
  {
   "cell_type": "code",
   "execution_count": 25,
   "id": "a934ab97",
   "metadata": {},
   "outputs": [],
   "source": [
    "from sodapy import Socrata"
   ]
  },
  {
   "cell_type": "code",
   "execution_count": 26,
   "id": "8b2bd21c",
   "metadata": {},
   "outputs": [
    {
     "name": "stderr",
     "output_type": "stream",
     "text": [
      "WARNING:root:Requests made without an app_token will be subject to strict throttling limits.\n"
     ]
    }
   ],
   "source": [
    "client = Socrata(\"data.seattle.gov\", None)\n"
   ]
  },
  {
   "cell_type": "code",
   "execution_count": 27,
   "id": "db1b682e",
   "metadata": {},
   "outputs": [
    {
     "ename": "SSLError",
     "evalue": "HTTPSConnectionPool(host='data.seattle.gov', port=443): Max retries exceeded with url: /resource/bqqa-qp8w.json?%24limit=2000 (Caused by SSLError(SSLEOFError(8, 'EOF occurred in violation of protocol (_ssl.c:1129)')))",
     "output_type": "error",
     "traceback": [
      "\u001b[0;31m---------------------------------------------------------------------------\u001b[0m",
      "\u001b[0;31mSSLEOFError\u001b[0m                               Traceback (most recent call last)",
      "\u001b[0;32m~/opt/anaconda3/lib/python3.9/site-packages/urllib3/connectionpool.py\u001b[0m in \u001b[0;36murlopen\u001b[0;34m(self, method, url, body, headers, retries, redirect, assert_same_host, timeout, pool_timeout, release_conn, chunked, body_pos, **response_kw)\u001b[0m\n\u001b[1;32m    699\u001b[0m             \u001b[0;32mif\u001b[0m \u001b[0mis_new_proxy_conn\u001b[0m \u001b[0;32mand\u001b[0m \u001b[0mhttp_tunnel_required\u001b[0m\u001b[0;34m:\u001b[0m\u001b[0;34m\u001b[0m\u001b[0;34m\u001b[0m\u001b[0m\n\u001b[0;32m--> 700\u001b[0;31m                 \u001b[0mself\u001b[0m\u001b[0;34m.\u001b[0m\u001b[0m_prepare_proxy\u001b[0m\u001b[0;34m(\u001b[0m\u001b[0mconn\u001b[0m\u001b[0;34m)\u001b[0m\u001b[0;34m\u001b[0m\u001b[0;34m\u001b[0m\u001b[0m\n\u001b[0m\u001b[1;32m    701\u001b[0m \u001b[0;34m\u001b[0m\u001b[0m\n",
      "\u001b[0;32m~/opt/anaconda3/lib/python3.9/site-packages/urllib3/connectionpool.py\u001b[0m in \u001b[0;36m_prepare_proxy\u001b[0;34m(self, conn)\u001b[0m\n\u001b[1;32m    995\u001b[0m \u001b[0;34m\u001b[0m\u001b[0m\n\u001b[0;32m--> 996\u001b[0;31m         \u001b[0mconn\u001b[0m\u001b[0;34m.\u001b[0m\u001b[0mconnect\u001b[0m\u001b[0;34m(\u001b[0m\u001b[0;34m)\u001b[0m\u001b[0;34m\u001b[0m\u001b[0;34m\u001b[0m\u001b[0m\n\u001b[0m\u001b[1;32m    997\u001b[0m \u001b[0;34m\u001b[0m\u001b[0m\n",
      "\u001b[0;32m~/opt/anaconda3/lib/python3.9/site-packages/urllib3/connection.py\u001b[0m in \u001b[0;36mconnect\u001b[0;34m(self)\u001b[0m\n\u001b[1;32m    413\u001b[0m \u001b[0;34m\u001b[0m\u001b[0m\n\u001b[0;32m--> 414\u001b[0;31m         self.sock = ssl_wrap_socket(\n\u001b[0m\u001b[1;32m    415\u001b[0m             \u001b[0msock\u001b[0m\u001b[0;34m=\u001b[0m\u001b[0mconn\u001b[0m\u001b[0;34m,\u001b[0m\u001b[0;34m\u001b[0m\u001b[0;34m\u001b[0m\u001b[0m\n",
      "\u001b[0;32m~/opt/anaconda3/lib/python3.9/site-packages/urllib3/util/ssl_.py\u001b[0m in \u001b[0;36mssl_wrap_socket\u001b[0;34m(sock, keyfile, certfile, cert_reqs, ca_certs, server_hostname, ssl_version, ciphers, ssl_context, ca_cert_dir, key_password, ca_cert_data, tls_in_tls)\u001b[0m\n\u001b[1;32m    448\u001b[0m     \u001b[0;32mif\u001b[0m \u001b[0msend_sni\u001b[0m\u001b[0;34m:\u001b[0m\u001b[0;34m\u001b[0m\u001b[0;34m\u001b[0m\u001b[0m\n\u001b[0;32m--> 449\u001b[0;31m         ssl_sock = _ssl_wrap_socket_impl(\n\u001b[0m\u001b[1;32m    450\u001b[0m             \u001b[0msock\u001b[0m\u001b[0;34m,\u001b[0m \u001b[0mcontext\u001b[0m\u001b[0;34m,\u001b[0m \u001b[0mtls_in_tls\u001b[0m\u001b[0;34m,\u001b[0m \u001b[0mserver_hostname\u001b[0m\u001b[0;34m=\u001b[0m\u001b[0mserver_hostname\u001b[0m\u001b[0;34m\u001b[0m\u001b[0;34m\u001b[0m\u001b[0m\n",
      "\u001b[0;32m~/opt/anaconda3/lib/python3.9/site-packages/urllib3/util/ssl_.py\u001b[0m in \u001b[0;36m_ssl_wrap_socket_impl\u001b[0;34m(sock, ssl_context, tls_in_tls, server_hostname)\u001b[0m\n\u001b[1;32m    492\u001b[0m     \u001b[0;32mif\u001b[0m \u001b[0mserver_hostname\u001b[0m\u001b[0;34m:\u001b[0m\u001b[0;34m\u001b[0m\u001b[0;34m\u001b[0m\u001b[0m\n\u001b[0;32m--> 493\u001b[0;31m         \u001b[0;32mreturn\u001b[0m \u001b[0mssl_context\u001b[0m\u001b[0;34m.\u001b[0m\u001b[0mwrap_socket\u001b[0m\u001b[0;34m(\u001b[0m\u001b[0msock\u001b[0m\u001b[0;34m,\u001b[0m \u001b[0mserver_hostname\u001b[0m\u001b[0;34m=\u001b[0m\u001b[0mserver_hostname\u001b[0m\u001b[0;34m)\u001b[0m\u001b[0;34m\u001b[0m\u001b[0;34m\u001b[0m\u001b[0m\n\u001b[0m\u001b[1;32m    494\u001b[0m     \u001b[0;32melse\u001b[0m\u001b[0;34m:\u001b[0m\u001b[0;34m\u001b[0m\u001b[0;34m\u001b[0m\u001b[0m\n",
      "\u001b[0;32m~/opt/anaconda3/lib/python3.9/ssl.py\u001b[0m in \u001b[0;36mwrap_socket\u001b[0;34m(self, sock, server_side, do_handshake_on_connect, suppress_ragged_eofs, server_hostname, session)\u001b[0m\n\u001b[1;32m    500\u001b[0m         \u001b[0;31m# ctx._wrap_socket()\u001b[0m\u001b[0;34m\u001b[0m\u001b[0;34m\u001b[0m\u001b[0m\n\u001b[0;32m--> 501\u001b[0;31m         return self.sslsocket_class._create(\n\u001b[0m\u001b[1;32m    502\u001b[0m             \u001b[0msock\u001b[0m\u001b[0;34m=\u001b[0m\u001b[0msock\u001b[0m\u001b[0;34m,\u001b[0m\u001b[0;34m\u001b[0m\u001b[0;34m\u001b[0m\u001b[0m\n",
      "\u001b[0;32m~/opt/anaconda3/lib/python3.9/ssl.py\u001b[0m in \u001b[0;36m_create\u001b[0;34m(cls, sock, server_side, do_handshake_on_connect, suppress_ragged_eofs, server_hostname, context, session)\u001b[0m\n\u001b[1;32m   1040\u001b[0m                         \u001b[0;32mraise\u001b[0m \u001b[0mValueError\u001b[0m\u001b[0;34m(\u001b[0m\u001b[0;34m\"do_handshake_on_connect should not be specified for non-blocking sockets\"\u001b[0m\u001b[0;34m)\u001b[0m\u001b[0;34m\u001b[0m\u001b[0;34m\u001b[0m\u001b[0m\n\u001b[0;32m-> 1041\u001b[0;31m                     \u001b[0mself\u001b[0m\u001b[0;34m.\u001b[0m\u001b[0mdo_handshake\u001b[0m\u001b[0;34m(\u001b[0m\u001b[0;34m)\u001b[0m\u001b[0;34m\u001b[0m\u001b[0;34m\u001b[0m\u001b[0m\n\u001b[0m\u001b[1;32m   1042\u001b[0m             \u001b[0;32mexcept\u001b[0m \u001b[0;34m(\u001b[0m\u001b[0mOSError\u001b[0m\u001b[0;34m,\u001b[0m \u001b[0mValueError\u001b[0m\u001b[0;34m)\u001b[0m\u001b[0;34m:\u001b[0m\u001b[0;34m\u001b[0m\u001b[0;34m\u001b[0m\u001b[0m\n",
      "\u001b[0;32m~/opt/anaconda3/lib/python3.9/ssl.py\u001b[0m in \u001b[0;36mdo_handshake\u001b[0;34m(self, block)\u001b[0m\n\u001b[1;32m   1309\u001b[0m                 \u001b[0mself\u001b[0m\u001b[0;34m.\u001b[0m\u001b[0msettimeout\u001b[0m\u001b[0;34m(\u001b[0m\u001b[0;32mNone\u001b[0m\u001b[0;34m)\u001b[0m\u001b[0;34m\u001b[0m\u001b[0;34m\u001b[0m\u001b[0m\n\u001b[0;32m-> 1310\u001b[0;31m             \u001b[0mself\u001b[0m\u001b[0;34m.\u001b[0m\u001b[0m_sslobj\u001b[0m\u001b[0;34m.\u001b[0m\u001b[0mdo_handshake\u001b[0m\u001b[0;34m(\u001b[0m\u001b[0;34m)\u001b[0m\u001b[0;34m\u001b[0m\u001b[0;34m\u001b[0m\u001b[0m\n\u001b[0m\u001b[1;32m   1311\u001b[0m         \u001b[0;32mfinally\u001b[0m\u001b[0;34m:\u001b[0m\u001b[0;34m\u001b[0m\u001b[0;34m\u001b[0m\u001b[0m\n",
      "\u001b[0;31mSSLEOFError\u001b[0m: EOF occurred in violation of protocol (_ssl.c:1129)",
      "\nDuring handling of the above exception, another exception occurred:\n",
      "\u001b[0;31mMaxRetryError\u001b[0m                             Traceback (most recent call last)",
      "\u001b[0;32m~/opt/anaconda3/lib/python3.9/site-packages/requests/adapters.py\u001b[0m in \u001b[0;36msend\u001b[0;34m(self, request, stream, timeout, verify, cert, proxies)\u001b[0m\n\u001b[1;32m    488\u001b[0m             \u001b[0;32mif\u001b[0m \u001b[0;32mnot\u001b[0m \u001b[0mchunked\u001b[0m\u001b[0;34m:\u001b[0m\u001b[0;34m\u001b[0m\u001b[0;34m\u001b[0m\u001b[0m\n\u001b[0;32m--> 489\u001b[0;31m                 resp = conn.urlopen(\n\u001b[0m\u001b[1;32m    490\u001b[0m                     \u001b[0mmethod\u001b[0m\u001b[0;34m=\u001b[0m\u001b[0mrequest\u001b[0m\u001b[0;34m.\u001b[0m\u001b[0mmethod\u001b[0m\u001b[0;34m,\u001b[0m\u001b[0;34m\u001b[0m\u001b[0;34m\u001b[0m\u001b[0m\n",
      "\u001b[0;32m~/opt/anaconda3/lib/python3.9/site-packages/urllib3/connectionpool.py\u001b[0m in \u001b[0;36murlopen\u001b[0;34m(self, method, url, body, headers, retries, redirect, assert_same_host, timeout, pool_timeout, release_conn, chunked, body_pos, **response_kw)\u001b[0m\n\u001b[1;32m    786\u001b[0m \u001b[0;34m\u001b[0m\u001b[0m\n\u001b[0;32m--> 787\u001b[0;31m             retries = retries.increment(\n\u001b[0m\u001b[1;32m    788\u001b[0m                 \u001b[0mmethod\u001b[0m\u001b[0;34m,\u001b[0m \u001b[0murl\u001b[0m\u001b[0;34m,\u001b[0m \u001b[0merror\u001b[0m\u001b[0;34m=\u001b[0m\u001b[0me\u001b[0m\u001b[0;34m,\u001b[0m \u001b[0m_pool\u001b[0m\u001b[0;34m=\u001b[0m\u001b[0mself\u001b[0m\u001b[0;34m,\u001b[0m \u001b[0m_stacktrace\u001b[0m\u001b[0;34m=\u001b[0m\u001b[0msys\u001b[0m\u001b[0;34m.\u001b[0m\u001b[0mexc_info\u001b[0m\u001b[0;34m(\u001b[0m\u001b[0;34m)\u001b[0m\u001b[0;34m[\u001b[0m\u001b[0;36m2\u001b[0m\u001b[0;34m]\u001b[0m\u001b[0;34m\u001b[0m\u001b[0;34m\u001b[0m\u001b[0m\n",
      "\u001b[0;32m~/opt/anaconda3/lib/python3.9/site-packages/urllib3/util/retry.py\u001b[0m in \u001b[0;36mincrement\u001b[0;34m(self, method, url, response, error, _pool, _stacktrace)\u001b[0m\n\u001b[1;32m    591\u001b[0m         \u001b[0;32mif\u001b[0m \u001b[0mnew_retry\u001b[0m\u001b[0;34m.\u001b[0m\u001b[0mis_exhausted\u001b[0m\u001b[0;34m(\u001b[0m\u001b[0;34m)\u001b[0m\u001b[0;34m:\u001b[0m\u001b[0;34m\u001b[0m\u001b[0;34m\u001b[0m\u001b[0m\n\u001b[0;32m--> 592\u001b[0;31m             \u001b[0;32mraise\u001b[0m \u001b[0mMaxRetryError\u001b[0m\u001b[0;34m(\u001b[0m\u001b[0m_pool\u001b[0m\u001b[0;34m,\u001b[0m \u001b[0murl\u001b[0m\u001b[0;34m,\u001b[0m \u001b[0merror\u001b[0m \u001b[0;32mor\u001b[0m \u001b[0mResponseError\u001b[0m\u001b[0;34m(\u001b[0m\u001b[0mcause\u001b[0m\u001b[0;34m)\u001b[0m\u001b[0;34m)\u001b[0m\u001b[0;34m\u001b[0m\u001b[0;34m\u001b[0m\u001b[0m\n\u001b[0m\u001b[1;32m    593\u001b[0m \u001b[0;34m\u001b[0m\u001b[0m\n",
      "\u001b[0;31mMaxRetryError\u001b[0m: HTTPSConnectionPool(host='data.seattle.gov', port=443): Max retries exceeded with url: /resource/bqqa-qp8w.json?%24limit=2000 (Caused by SSLError(SSLEOFError(8, 'EOF occurred in violation of protocol (_ssl.c:1129)')))",
      "\nDuring handling of the above exception, another exception occurred:\n",
      "\u001b[0;31mSSLError\u001b[0m                                  Traceback (most recent call last)",
      "\u001b[0;32m/var/folders/fd/rkbd_2854zj04sh03zsspmf80000gn/T/ipykernel_3442/1945566526.py\u001b[0m in \u001b[0;36m<module>\u001b[0;34m\u001b[0m\n\u001b[0;32m----> 1\u001b[0;31m \u001b[0mresults\u001b[0m \u001b[0;34m=\u001b[0m \u001b[0mclient\u001b[0m\u001b[0;34m.\u001b[0m\u001b[0mget\u001b[0m\u001b[0;34m(\u001b[0m\u001b[0;34m\"bqqa-qp8w\"\u001b[0m\u001b[0;34m,\u001b[0m \u001b[0mlimit\u001b[0m\u001b[0;34m=\u001b[0m\u001b[0;36m2000\u001b[0m\u001b[0;34m)\u001b[0m\u001b[0;34m\u001b[0m\u001b[0;34m\u001b[0m\u001b[0m\n\u001b[0m",
      "\u001b[0;32m~/opt/anaconda3/lib/python3.9/site-packages/sodapy/socrata.py\u001b[0m in \u001b[0;36mget\u001b[0;34m(self, dataset_identifier, content_type, **kwargs)\u001b[0m\n\u001b[1;32m    410\u001b[0m         \u001b[0mparams\u001b[0m \u001b[0;34m=\u001b[0m \u001b[0mutils\u001b[0m\u001b[0;34m.\u001b[0m\u001b[0mclear_empty_values\u001b[0m\u001b[0;34m(\u001b[0m\u001b[0mparams\u001b[0m\u001b[0;34m)\u001b[0m\u001b[0;34m\u001b[0m\u001b[0;34m\u001b[0m\u001b[0m\n\u001b[1;32m    411\u001b[0m \u001b[0;34m\u001b[0m\u001b[0m\n\u001b[0;32m--> 412\u001b[0;31m         response = self._perform_request(\n\u001b[0m\u001b[1;32m    413\u001b[0m             \u001b[0;34m\"get\"\u001b[0m\u001b[0;34m,\u001b[0m \u001b[0mresource\u001b[0m\u001b[0;34m,\u001b[0m \u001b[0mheaders\u001b[0m\u001b[0;34m=\u001b[0m\u001b[0mheaders\u001b[0m\u001b[0;34m,\u001b[0m \u001b[0mparams\u001b[0m\u001b[0;34m=\u001b[0m\u001b[0mparams\u001b[0m\u001b[0;34m\u001b[0m\u001b[0;34m\u001b[0m\u001b[0m\n\u001b[1;32m    414\u001b[0m         )\n",
      "\u001b[0;32m~/opt/anaconda3/lib/python3.9/site-packages/sodapy/socrata.py\u001b[0m in \u001b[0;36m_perform_request\u001b[0;34m(self, request_type, resource, **kwargs)\u001b[0m\n\u001b[1;32m    549\u001b[0m         \u001b[0mkwargs\u001b[0m\u001b[0;34m[\u001b[0m\u001b[0;34m\"timeout\"\u001b[0m\u001b[0;34m]\u001b[0m \u001b[0;34m=\u001b[0m \u001b[0mself\u001b[0m\u001b[0;34m.\u001b[0m\u001b[0mtimeout\u001b[0m\u001b[0;34m\u001b[0m\u001b[0;34m\u001b[0m\u001b[0m\n\u001b[1;32m    550\u001b[0m \u001b[0;34m\u001b[0m\u001b[0m\n\u001b[0;32m--> 551\u001b[0;31m         \u001b[0mresponse\u001b[0m \u001b[0;34m=\u001b[0m \u001b[0mgetattr\u001b[0m\u001b[0;34m(\u001b[0m\u001b[0mself\u001b[0m\u001b[0;34m.\u001b[0m\u001b[0msession\u001b[0m\u001b[0;34m,\u001b[0m \u001b[0mrequest_type\u001b[0m\u001b[0;34m)\u001b[0m\u001b[0;34m(\u001b[0m\u001b[0muri\u001b[0m\u001b[0;34m,\u001b[0m \u001b[0;34m**\u001b[0m\u001b[0mkwargs\u001b[0m\u001b[0;34m)\u001b[0m\u001b[0;34m\u001b[0m\u001b[0;34m\u001b[0m\u001b[0m\n\u001b[0m\u001b[1;32m    552\u001b[0m \u001b[0;34m\u001b[0m\u001b[0m\n\u001b[1;32m    553\u001b[0m         \u001b[0;31m# handle errors\u001b[0m\u001b[0;34m\u001b[0m\u001b[0;34m\u001b[0m\u001b[0m\n",
      "\u001b[0;32m~/opt/anaconda3/lib/python3.9/site-packages/requests/sessions.py\u001b[0m in \u001b[0;36mget\u001b[0;34m(self, url, **kwargs)\u001b[0m\n\u001b[1;32m    598\u001b[0m \u001b[0;34m\u001b[0m\u001b[0m\n\u001b[1;32m    599\u001b[0m         \u001b[0mkwargs\u001b[0m\u001b[0;34m.\u001b[0m\u001b[0msetdefault\u001b[0m\u001b[0;34m(\u001b[0m\u001b[0;34m\"allow_redirects\"\u001b[0m\u001b[0;34m,\u001b[0m \u001b[0;32mTrue\u001b[0m\u001b[0;34m)\u001b[0m\u001b[0;34m\u001b[0m\u001b[0;34m\u001b[0m\u001b[0m\n\u001b[0;32m--> 600\u001b[0;31m         \u001b[0;32mreturn\u001b[0m \u001b[0mself\u001b[0m\u001b[0;34m.\u001b[0m\u001b[0mrequest\u001b[0m\u001b[0;34m(\u001b[0m\u001b[0;34m\"GET\"\u001b[0m\u001b[0;34m,\u001b[0m \u001b[0murl\u001b[0m\u001b[0;34m,\u001b[0m \u001b[0;34m**\u001b[0m\u001b[0mkwargs\u001b[0m\u001b[0;34m)\u001b[0m\u001b[0;34m\u001b[0m\u001b[0;34m\u001b[0m\u001b[0m\n\u001b[0m\u001b[1;32m    601\u001b[0m \u001b[0;34m\u001b[0m\u001b[0m\n\u001b[1;32m    602\u001b[0m     \u001b[0;32mdef\u001b[0m \u001b[0moptions\u001b[0m\u001b[0;34m(\u001b[0m\u001b[0mself\u001b[0m\u001b[0;34m,\u001b[0m \u001b[0murl\u001b[0m\u001b[0;34m,\u001b[0m \u001b[0;34m**\u001b[0m\u001b[0mkwargs\u001b[0m\u001b[0;34m)\u001b[0m\u001b[0;34m:\u001b[0m\u001b[0;34m\u001b[0m\u001b[0;34m\u001b[0m\u001b[0m\n",
      "\u001b[0;32m~/opt/anaconda3/lib/python3.9/site-packages/requests/sessions.py\u001b[0m in \u001b[0;36mrequest\u001b[0;34m(self, method, url, params, data, headers, cookies, files, auth, timeout, allow_redirects, proxies, hooks, stream, verify, cert, json)\u001b[0m\n\u001b[1;32m    585\u001b[0m         }\n\u001b[1;32m    586\u001b[0m         \u001b[0msend_kwargs\u001b[0m\u001b[0;34m.\u001b[0m\u001b[0mupdate\u001b[0m\u001b[0;34m(\u001b[0m\u001b[0msettings\u001b[0m\u001b[0;34m)\u001b[0m\u001b[0;34m\u001b[0m\u001b[0;34m\u001b[0m\u001b[0m\n\u001b[0;32m--> 587\u001b[0;31m         \u001b[0mresp\u001b[0m \u001b[0;34m=\u001b[0m \u001b[0mself\u001b[0m\u001b[0;34m.\u001b[0m\u001b[0msend\u001b[0m\u001b[0;34m(\u001b[0m\u001b[0mprep\u001b[0m\u001b[0;34m,\u001b[0m \u001b[0;34m**\u001b[0m\u001b[0msend_kwargs\u001b[0m\u001b[0;34m)\u001b[0m\u001b[0;34m\u001b[0m\u001b[0;34m\u001b[0m\u001b[0m\n\u001b[0m\u001b[1;32m    588\u001b[0m \u001b[0;34m\u001b[0m\u001b[0m\n\u001b[1;32m    589\u001b[0m         \u001b[0;32mreturn\u001b[0m \u001b[0mresp\u001b[0m\u001b[0;34m\u001b[0m\u001b[0;34m\u001b[0m\u001b[0m\n",
      "\u001b[0;32m~/opt/anaconda3/lib/python3.9/site-packages/requests/sessions.py\u001b[0m in \u001b[0;36msend\u001b[0;34m(self, request, **kwargs)\u001b[0m\n\u001b[1;32m    699\u001b[0m \u001b[0;34m\u001b[0m\u001b[0m\n\u001b[1;32m    700\u001b[0m         \u001b[0;31m# Send the request\u001b[0m\u001b[0;34m\u001b[0m\u001b[0;34m\u001b[0m\u001b[0m\n\u001b[0;32m--> 701\u001b[0;31m         \u001b[0mr\u001b[0m \u001b[0;34m=\u001b[0m \u001b[0madapter\u001b[0m\u001b[0;34m.\u001b[0m\u001b[0msend\u001b[0m\u001b[0;34m(\u001b[0m\u001b[0mrequest\u001b[0m\u001b[0;34m,\u001b[0m \u001b[0;34m**\u001b[0m\u001b[0mkwargs\u001b[0m\u001b[0;34m)\u001b[0m\u001b[0;34m\u001b[0m\u001b[0;34m\u001b[0m\u001b[0m\n\u001b[0m\u001b[1;32m    702\u001b[0m \u001b[0;34m\u001b[0m\u001b[0m\n\u001b[1;32m    703\u001b[0m         \u001b[0;31m# Total elapsed time of the request (approximately)\u001b[0m\u001b[0;34m\u001b[0m\u001b[0;34m\u001b[0m\u001b[0m\n",
      "\u001b[0;32m~/opt/anaconda3/lib/python3.9/site-packages/requests/adapters.py\u001b[0m in \u001b[0;36msend\u001b[0;34m(self, request, stream, timeout, verify, cert, proxies)\u001b[0m\n\u001b[1;32m    561\u001b[0m             \u001b[0;32mif\u001b[0m \u001b[0misinstance\u001b[0m\u001b[0;34m(\u001b[0m\u001b[0me\u001b[0m\u001b[0;34m.\u001b[0m\u001b[0mreason\u001b[0m\u001b[0;34m,\u001b[0m \u001b[0m_SSLError\u001b[0m\u001b[0;34m)\u001b[0m\u001b[0;34m:\u001b[0m\u001b[0;34m\u001b[0m\u001b[0;34m\u001b[0m\u001b[0m\n\u001b[1;32m    562\u001b[0m                 \u001b[0;31m# This branch is for urllib3 v1.22 and later.\u001b[0m\u001b[0;34m\u001b[0m\u001b[0;34m\u001b[0m\u001b[0m\n\u001b[0;32m--> 563\u001b[0;31m                 \u001b[0;32mraise\u001b[0m \u001b[0mSSLError\u001b[0m\u001b[0;34m(\u001b[0m\u001b[0me\u001b[0m\u001b[0;34m,\u001b[0m \u001b[0mrequest\u001b[0m\u001b[0;34m=\u001b[0m\u001b[0mrequest\u001b[0m\u001b[0;34m)\u001b[0m\u001b[0;34m\u001b[0m\u001b[0;34m\u001b[0m\u001b[0m\n\u001b[0m\u001b[1;32m    564\u001b[0m \u001b[0;34m\u001b[0m\u001b[0m\n\u001b[1;32m    565\u001b[0m             \u001b[0;32mraise\u001b[0m \u001b[0mConnectionError\u001b[0m\u001b[0;34m(\u001b[0m\u001b[0me\u001b[0m\u001b[0;34m,\u001b[0m \u001b[0mrequest\u001b[0m\u001b[0;34m=\u001b[0m\u001b[0mrequest\u001b[0m\u001b[0;34m)\u001b[0m\u001b[0;34m\u001b[0m\u001b[0;34m\u001b[0m\u001b[0m\n",
      "\u001b[0;31mSSLError\u001b[0m: HTTPSConnectionPool(host='data.seattle.gov', port=443): Max retries exceeded with url: /resource/bqqa-qp8w.json?%24limit=2000 (Caused by SSLError(SSLEOFError(8, 'EOF occurred in violation of protocol (_ssl.c:1129)')))"
     ]
    }
   ],
   "source": [
    "results = client.get(\"bqqa-qp8w\", limit=2000)"
   ]
  },
  {
   "cell_type": "code",
   "execution_count": null,
   "id": "ca329f75",
   "metadata": {},
   "outputs": [],
   "source": [
    "results_df = pd.DataFrame.from_records(results)"
   ]
  },
  {
   "cell_type": "code",
   "execution_count": null,
   "id": "f0cb0aaf",
   "metadata": {},
   "outputs": [],
   "source": [
    "results_df"
   ]
  },
  {
   "cell_type": "code",
   "execution_count": 30,
   "id": "c78cad46",
   "metadata": {},
   "outputs": [],
   "source": [
    "from IPython.display import IFrame"
   ]
  },
  {
   "cell_type": "code",
   "execution_count": 28,
   "id": "fd0e3b3d",
   "metadata": {},
   "outputs": [],
   "source": [
    "wikiLink=\"https://en.wikipedia.org/wiki/Democracy_Index\" "
   ]
  },
  {
   "cell_type": "code",
   "execution_count": 31,
   "id": "e8bc0cbd",
   "metadata": {},
   "outputs": [
    {
     "data": {
      "text/html": [
       "\n",
       "        <iframe\n",
       "            width=\"900\"\n",
       "            height=\"300\"\n",
       "            src=\"https://en.wikipedia.org/wiki/Democracy_Index\"\n",
       "            frameborder=\"0\"\n",
       "            allowfullscreen\n",
       "            \n",
       "        ></iframe>\n",
       "        "
      ],
      "text/plain": [
       "<IPython.lib.display.IFrame at 0x7fcf11d59850>"
      ]
     },
     "execution_count": 31,
     "metadata": {},
     "output_type": "execute_result"
    }
   ],
   "source": [
    "IFrame(wikiLink, width=900, height=300)"
   ]
  },
  {
   "cell_type": "code",
   "execution_count": 32,
   "id": "1ab90026",
   "metadata": {},
   "outputs": [
    {
     "name": "stdout",
     "output_type": "stream",
     "text": [
      "Requirement already satisfied: html5lib in /Users/adlerkang/opt/anaconda3/lib/python3.9/site-packages (1.1)\n",
      "Requirement already satisfied: six>=1.9 in /Users/adlerkang/opt/anaconda3/lib/python3.9/site-packages (from html5lib) (1.16.0)\n",
      "Requirement already satisfied: webencodings in /Users/adlerkang/opt/anaconda3/lib/python3.9/site-packages (from html5lib) (0.5.1)\n",
      "Note: you may need to restart the kernel to use updated packages.\n"
     ]
    }
   ],
   "source": [
    "pip install html5lib"
   ]
  },
  {
   "cell_type": "code",
   "execution_count": 33,
   "id": "2c17be92",
   "metadata": {},
   "outputs": [
    {
     "name": "stdout",
     "output_type": "stream",
     "text": [
      "Requirement already satisfied: beautifulsoup4 in /Users/adlerkang/opt/anaconda3/lib/python3.9/site-packages (4.11.1)\n",
      "Requirement already satisfied: soupsieve>1.2 in /Users/adlerkang/opt/anaconda3/lib/python3.9/site-packages (from beautifulsoup4) (2.3.1)\n",
      "Note: you may need to restart the kernel to use updated packages.\n"
     ]
    }
   ],
   "source": [
    "pip install beautifulsoup4"
   ]
  },
  {
   "cell_type": "code",
   "execution_count": 34,
   "id": "b5612ad2",
   "metadata": {},
   "outputs": [
    {
     "name": "stdout",
     "output_type": "stream",
     "text": [
      "Requirement already satisfied: lxml in /Users/adlerkang/opt/anaconda3/lib/python3.9/site-packages (4.9.1)\n",
      "Note: you may need to restart the kernel to use updated packages.\n"
     ]
    }
   ],
   "source": [
    "pip install lxml"
   ]
  },
  {
   "cell_type": "code",
   "execution_count": 35,
   "id": "1c6f43ea",
   "metadata": {},
   "outputs": [],
   "source": [
    "DFwiki=pd.read_html(wikiLink,\n",
    "                    header=0,\n",
    "                    flavor='bs4',\n",
    "                    attrs={'class': 'wikitable'})"
   ]
  },
  {
   "cell_type": "code",
   "execution_count": 36,
   "id": "1580e43a",
   "metadata": {},
   "outputs": [
    {
     "data": {
      "text/plain": [
       "list"
      ]
     },
     "execution_count": 36,
     "metadata": {},
     "output_type": "execute_result"
    }
   ],
   "source": [
    "type(DFwiki)"
   ]
  },
  {
   "cell_type": "code",
   "execution_count": 37,
   "id": "7dc5c13c",
   "metadata": {},
   "outputs": [
    {
     "data": {
      "text/plain": [
       "pandas.core.frame.DataFrame"
      ]
     },
     "execution_count": 37,
     "metadata": {},
     "output_type": "execute_result"
    }
   ],
   "source": [
    "type(DFdta)"
   ]
  },
  {
   "cell_type": "code",
   "execution_count": 38,
   "id": "bf2dc3af",
   "metadata": {},
   "outputs": [],
   "source": [
    "alist = [1,2,'a','*']"
   ]
  },
  {
   "cell_type": "code",
   "execution_count": 39,
   "id": "82e207d8",
   "metadata": {},
   "outputs": [
    {
     "data": {
      "text/plain": [
       "[1, 2, 'a', '*']"
      ]
     },
     "execution_count": 39,
     "metadata": {},
     "output_type": "execute_result"
    }
   ],
   "source": [
    "alist"
   ]
  },
  {
   "cell_type": "code",
   "execution_count": 40,
   "id": "4ebb70b7",
   "metadata": {},
   "outputs": [
    {
     "data": {
      "text/plain": [
       "4"
      ]
     },
     "execution_count": 40,
     "metadata": {},
     "output_type": "execute_result"
    }
   ],
   "source": [
    "len(alist)"
   ]
  },
  {
   "cell_type": "code",
   "execution_count": 41,
   "id": "63c65e3b",
   "metadata": {},
   "outputs": [
    {
     "data": {
      "text/plain": [
       "'a'"
      ]
     },
     "execution_count": 41,
     "metadata": {},
     "output_type": "execute_result"
    }
   ],
   "source": [
    "alist[2]"
   ]
  },
  {
   "cell_type": "code",
   "execution_count": 42,
   "id": "59a8d097",
   "metadata": {},
   "outputs": [],
   "source": [
    "alist.append(4)"
   ]
  },
  {
   "cell_type": "code",
   "execution_count": 43,
   "id": "bd415514",
   "metadata": {},
   "outputs": [
    {
     "data": {
      "text/plain": [
       "[1, 2, 'a', '*', 4]"
      ]
     },
     "execution_count": 43,
     "metadata": {},
     "output_type": "execute_result"
    }
   ],
   "source": [
    "alist"
   ]
  },
  {
   "cell_type": "code",
   "execution_count": 44,
   "id": "c8bcaa54",
   "metadata": {},
   "outputs": [],
   "source": [
    "alist[3] = 'bbc'"
   ]
  },
  {
   "cell_type": "code",
   "execution_count": 45,
   "id": "6750a6d5",
   "metadata": {},
   "outputs": [
    {
     "data": {
      "text/plain": [
       "[1, 2, 'a', 'bbc', 4]"
      ]
     },
     "execution_count": 45,
     "metadata": {},
     "output_type": "execute_result"
    }
   ],
   "source": [
    "alist"
   ]
  },
  {
   "cell_type": "code",
   "execution_count": 46,
   "id": "d92d1ebd",
   "metadata": {},
   "outputs": [],
   "source": [
    "del alist[0]"
   ]
  },
  {
   "cell_type": "code",
   "execution_count": 47,
   "id": "f862b976",
   "metadata": {},
   "outputs": [
    {
     "data": {
      "text/plain": [
       "[2, 'a', 'bbc', 4]"
      ]
     },
     "execution_count": 47,
     "metadata": {},
     "output_type": "execute_result"
    }
   ],
   "source": [
    "alist"
   ]
  },
  {
   "cell_type": "code",
   "execution_count": 48,
   "id": "201895a2",
   "metadata": {},
   "outputs": [
    {
     "data": {
      "text/plain": [
       "[0, 1, 4, 9, 16]"
      ]
     },
     "execution_count": 48,
     "metadata": {},
     "output_type": "execute_result"
    }
   ],
   "source": [
    "list_1 = [x**2 for x in range(5)]\n",
    "list_1"
   ]
  },
  {
   "cell_type": "code",
   "execution_count": 49,
   "id": "43b2db1e",
   "metadata": {},
   "outputs": [
    {
     "data": {
      "text/plain": [
       "[5, 10, 15, 20, 25, 30, 35, 40, 45]"
      ]
     },
     "execution_count": 49,
     "metadata": {},
     "output_type": "execute_result"
    }
   ],
   "source": [
    "list_2 = [x for x in range(50) if x%5 == 0 and x>0]\n",
    "list_2"
   ]
  },
  {
   "cell_type": "code",
   "execution_count": 50,
   "id": "e828fbef",
   "metadata": {},
   "outputs": [
    {
     "data": {
      "text/plain": [
       "['Mary', 'John', 'Liz']"
      ]
     },
     "execution_count": 50,
     "metadata": {},
     "output_type": "execute_result"
    }
   ],
   "source": [
    "someNames = [\"Peter\",\"Paul\",\"Mary\",\"John\",\"Liz\"]\n",
    "list_3 = [x for x in someNames if not x.startswith (\"P\")]\n",
    "list_3"
   ]
  },
  {
   "cell_type": "code",
   "execution_count": 51,
   "id": "15cb1b23",
   "metadata": {},
   "outputs": [],
   "source": [
    "import math"
   ]
  },
  {
   "cell_type": "code",
   "execution_count": 52,
   "id": "8e4a8623",
   "metadata": {},
   "outputs": [],
   "source": [
    "someNumbers = [-1, 6, -3, 4]"
   ]
  },
  {
   "cell_type": "code",
   "execution_count": 53,
   "id": "ba6d6801",
   "metadata": {},
   "outputs": [
    {
     "data": {
      "text/plain": [
       "[-1.0, 216.0, -27.0, 64.0]"
      ]
     },
     "execution_count": 53,
     "metadata": {},
     "output_type": "execute_result"
    }
   ],
   "source": [
    "list_4a = [math.pow(x,3) for x in someNumbers]\n",
    "list_4a"
   ]
  },
  {
   "cell_type": "code",
   "execution_count": 54,
   "id": "414eadf5",
   "metadata": {},
   "outputs": [
    {
     "name": "stdout",
     "output_type": "stream",
     "text": [
      "-1.00\n",
      "216.00\n",
      "-27.00\n",
      "64.00\n"
     ]
    }
   ],
   "source": [
    "for n in list_4a:\n",
    "    print(\"{:.2f}\".format(n))"
   ]
  },
  {
   "cell_type": "code",
   "execution_count": 55,
   "id": "015dd1ec",
   "metadata": {},
   "outputs": [
    {
     "data": {
      "text/plain": [
       "[None, 2.449489742783178, None, 2.0]"
      ]
     },
     "execution_count": 55,
     "metadata": {},
     "output_type": "execute_result"
    }
   ],
   "source": [
    "list_4b = [math.sqrt(x) if x >= 0 else None for x in someNumbers]\n",
    "list_4b"
   ]
  },
  {
   "cell_type": "code",
   "execution_count": 56,
   "id": "2e9865c8",
   "metadata": {},
   "outputs": [
    {
     "data": {
      "text/plain": [
       "5"
      ]
     },
     "execution_count": 56,
     "metadata": {},
     "output_type": "execute_result"
    }
   ],
   "source": [
    "len(DFwiki)"
   ]
  },
  {
   "cell_type": "code",
   "execution_count": 57,
   "id": "d4ff91ad",
   "metadata": {},
   "outputs": [
    {
     "data": {
      "text/html": [
       "<div>\n",
       "<style scoped>\n",
       "    .dataframe tbody tr th:only-of-type {\n",
       "        vertical-align: middle;\n",
       "    }\n",
       "\n",
       "    .dataframe tbody tr th {\n",
       "        vertical-align: top;\n",
       "    }\n",
       "\n",
       "    .dataframe thead th {\n",
       "        text-align: right;\n",
       "    }\n",
       "</style>\n",
       "<table border=\"1\" class=\"dataframe\">\n",
       "  <thead>\n",
       "    <tr style=\"text-align: right;\">\n",
       "      <th></th>\n",
       "      <th>Type of regime</th>\n",
       "      <th>Score</th>\n",
       "      <th>Countries</th>\n",
       "      <th>Countries.1</th>\n",
       "      <th>Proportion ofWorld population (%)</th>\n",
       "    </tr>\n",
       "  </thead>\n",
       "  <tbody>\n",
       "    <tr>\n",
       "      <th>0</th>\n",
       "      <td>Type of regime</td>\n",
       "      <td>Score</td>\n",
       "      <td>Number</td>\n",
       "      <td>(%)</td>\n",
       "      <td>Proportion ofWorld population (%)</td>\n",
       "    </tr>\n",
       "    <tr>\n",
       "      <th>1</th>\n",
       "      <td>Full democracies</td>\n",
       "      <td>9.01–10.00 8.01–9.00</td>\n",
       "      <td>21</td>\n",
       "      <td>12.6%</td>\n",
       "      <td>6.4%</td>\n",
       "    </tr>\n",
       "  </tbody>\n",
       "</table>\n",
       "</div>"
      ],
      "text/plain": [
       "     Type of regime                 Score Countries Countries.1  \\\n",
       "0    Type of regime                 Score    Number         (%)   \n",
       "1  Full democracies  9.01–10.00 8.01–9.00        21       12.6%   \n",
       "\n",
       "   Proportion ofWorld population (%)  \n",
       "0  Proportion ofWorld population (%)  \n",
       "1                               6.4%  "
      ]
     },
     "execution_count": 57,
     "metadata": {},
     "output_type": "execute_result"
    }
   ],
   "source": [
    "DFwiki[0].head(2)"
   ]
  },
  {
   "cell_type": "code",
   "execution_count": 58,
   "id": "bb937c4d",
   "metadata": {},
   "outputs": [
    {
     "data": {
      "text/plain": [
       "Index(['Region', '2021 rank', 'Country', 'Regime type', '2021', '2020', '2019',\n",
       "       '2018', '2017', '2016', '2015', '2014', '2013', '2012', '2011', '2010',\n",
       "       '2008', '2006'],\n",
       "      dtype='object')"
      ]
     },
     "execution_count": 58,
     "metadata": {},
     "output_type": "execute_result"
    }
   ],
   "source": [
    "DFwiki[3].columns"
   ]
  },
  {
   "cell_type": "code",
   "execution_count": 59,
   "id": "11642ea5",
   "metadata": {},
   "outputs": [
    {
     "data": {
      "text/plain": [
       "0           Canada\n",
       "1    United States\n",
       "2          Austria\n",
       "3          Belgium\n",
       "4           Cyprus\n",
       "5          Denmark\n",
       "6          Finland\n",
       "7           France\n",
       "8          Germany\n",
       "9           Greece\n",
       "Name: Country, dtype: object"
      ]
     },
     "execution_count": 59,
     "metadata": {},
     "output_type": "execute_result"
    }
   ],
   "source": [
    "DFwiki[3].iloc[:,2].head(10)"
   ]
  },
  {
   "cell_type": "code",
   "execution_count": null,
   "id": "5ab5620f",
   "metadata": {},
   "outputs": [],
   "source": []
  },
  {
   "cell_type": "code",
   "execution_count": null,
   "id": "826c3e30",
   "metadata": {},
   "outputs": [],
   "source": []
  },
  {
   "cell_type": "code",
   "execution_count": null,
   "id": "33362174",
   "metadata": {},
   "outputs": [],
   "source": []
  },
  {
   "cell_type": "code",
   "execution_count": null,
   "id": "0832cdbc",
   "metadata": {},
   "outputs": [],
   "source": []
  }
 ],
 "metadata": {
  "kernelspec": {
   "display_name": "Python 3 (ipykernel)",
   "language": "python",
   "name": "python3"
  },
  "language_info": {
   "codemirror_mode": {
    "name": "ipython",
    "version": 3
   },
   "file_extension": ".py",
   "mimetype": "text/x-python",
   "name": "python",
   "nbconvert_exporter": "python",
   "pygments_lexer": "ipython3",
   "version": "3.9.13"
  }
 },
 "nbformat": 4,
 "nbformat_minor": 5
}
