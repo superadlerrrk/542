{
 "cells": [
  {
   "cell_type": "code",
   "execution_count": 1,
   "id": "c2e52ffc",
   "metadata": {},
   "outputs": [],
   "source": [
    "from IPython.display import IFrame"
   ]
  },
  {
   "cell_type": "code",
   "execution_count": 2,
   "id": "7a83d093",
   "metadata": {},
   "outputs": [],
   "source": [
    "wikiLink = \"https://en.wikipedia.org/wiki/1990_United_States_census\""
   ]
  },
  {
   "cell_type": "code",
   "execution_count": 3,
   "id": "a4e67a05",
   "metadata": {},
   "outputs": [
    {
     "name": "stdout",
     "output_type": "stream",
     "text": [
      "Requirement already satisfied: html5lib in c:\\users\\nicho\\appdata\\roaming\\python\\python39\\site-packages (1.1)Note: you may need to restart the kernel to use updated packages.\n",
      "\n",
      "Requirement already satisfied: webencodings in c:\\programdata\\anaconda3\\lib\\site-packages (from html5lib) (0.5.1)\n",
      "Requirement already satisfied: six>=1.9 in c:\\programdata\\anaconda3\\lib\\site-packages (from html5lib) (1.16.0)\n"
     ]
    }
   ],
   "source": [
    "pip install html5lib"
   ]
  },
  {
   "cell_type": "code",
   "execution_count": 4,
   "id": "55490d65",
   "metadata": {},
   "outputs": [
    {
     "name": "stdout",
     "output_type": "stream",
     "text": [
      "Requirement already satisfied: beautifulsoup4 in c:\\programdata\\anaconda3\\lib\\site-packages (4.11.1)\n",
      "Requirement already satisfied: soupsieve>1.2 in c:\\programdata\\anaconda3\\lib\\site-packages (from beautifulsoup4) (2.3.2.post1)\n",
      "Note: you may need to restart the kernel to use updated packages.\n"
     ]
    }
   ],
   "source": [
    "pip install beautifulsoup4"
   ]
  },
  {
   "cell_type": "code",
   "execution_count": 5,
   "id": "8a899ad9",
   "metadata": {},
   "outputs": [
    {
     "name": "stdout",
     "output_type": "stream",
     "text": [
      "Requirement already satisfied: lxml in c:\\programdata\\anaconda3\\lib\\site-packages (4.9.1)\n",
      "Note: you may need to restart the kernel to use updated packages.\n"
     ]
    }
   ],
   "source": [
    "pip install lxml"
   ]
  },
  {
   "cell_type": "code",
   "execution_count": 6,
   "id": "576e4aff",
   "metadata": {},
   "outputs": [],
   "source": [
    "import pandas as pd"
   ]
  },
  {
   "cell_type": "code",
   "execution_count": 7,
   "id": "09c9bd28",
   "metadata": {},
   "outputs": [],
   "source": [
    "DFwiki=pd.read_html(wikiLink,\n",
    "                    header=0,\n",
    "                    flavor='bs4',\n",
    "                    attrs={'class': 'wikitable'})"
   ]
  },
  {
   "cell_type": "code",
   "execution_count": 8,
   "id": "7d97e6a4",
   "metadata": {},
   "outputs": [
    {
     "data": {
      "text/plain": [
       "list"
      ]
     },
     "execution_count": 8,
     "metadata": {},
     "output_type": "execute_result"
    }
   ],
   "source": [
    "type(DFwiki)"
   ]
  },
  {
   "cell_type": "markdown",
   "id": "9b62d499",
   "metadata": {},
   "source": [
    "Check the length of DFwiki using `len(DFwiki)`"
   ]
  },
  {
   "cell_type": "code",
   "execution_count": 9,
   "id": "bf5b43cf",
   "metadata": {},
   "outputs": [
    {
     "data": {
      "text/plain": [
       "3"
      ]
     },
     "execution_count": 9,
     "metadata": {},
     "output_type": "execute_result"
    }
   ],
   "source": [
    "len(DFwiki)"
   ]
  },
  {
   "cell_type": "markdown",
   "id": "ca684396",
   "metadata": {},
   "source": [
    "This means there are 3 elements inside the list named DFwiki. We can use index to get those elements directly, the first one can be access by `DFwiki[0]`, the second one `DFwiki[1]`, the third one `DFwiki[2]`.Also, we can check the type of those elements."
   ]
  },
  {
   "cell_type": "code",
   "execution_count": 10,
   "id": "8434395f",
   "metadata": {},
   "outputs": [
    {
     "data": {
      "text/plain": [
       "pandas.core.frame.DataFrame"
      ]
     },
     "execution_count": 10,
     "metadata": {},
     "output_type": "execute_result"
    }
   ],
   "source": [
    "type(DFwiki[0])"
   ]
  },
  {
   "cell_type": "markdown",
   "id": "73ef0d39",
   "metadata": {},
   "source": [
    "This means, the `pd.read_html` will return a list of pandas dataframe."
   ]
  },
  {
   "cell_type": "code",
   "execution_count": 11,
   "id": "e24690dd",
   "metadata": {},
   "outputs": [],
   "source": [
    "table_number_1 = DFwiki[0]"
   ]
  },
  {
   "cell_type": "markdown",
   "id": "df493721",
   "metadata": {},
   "source": [
    "table_number_1 is a datafame and we can call functions to use it.For example, `descrbie()`"
   ]
  },
  {
   "cell_type": "code",
   "execution_count": 13,
   "id": "6b1ca1f5",
   "metadata": {},
   "outputs": [
    {
     "data": {
      "text/html": [
       "<div>\n",
       "<style scoped>\n",
       "    .dataframe tbody tr th:only-of-type {\n",
       "        vertical-align: middle;\n",
       "    }\n",
       "\n",
       "    .dataframe tbody tr th {\n",
       "        vertical-align: top;\n",
       "    }\n",
       "\n",
       "    .dataframe thead th {\n",
       "        text-align: right;\n",
       "    }\n",
       "</style>\n",
       "<table border=\"1\" class=\"dataframe\">\n",
       "  <thead>\n",
       "    <tr style=\"text-align: right;\">\n",
       "      <th></th>\n",
       "      <th>Population as of1980 census</th>\n",
       "      <th>Population as of1990 census</th>\n",
       "    </tr>\n",
       "  </thead>\n",
       "  <tbody>\n",
       "    <tr>\n",
       "      <th>count</th>\n",
       "      <td>5.200000e+01</td>\n",
       "      <td>5.200000e+01</td>\n",
       "    </tr>\n",
       "    <tr>\n",
       "      <th>mean</th>\n",
       "      <td>8.713300e+06</td>\n",
       "      <td>9.565764e+06</td>\n",
       "    </tr>\n",
       "    <tr>\n",
       "      <th>std</th>\n",
       "      <td>3.114971e+07</td>\n",
       "      <td>3.423979e+07</td>\n",
       "    </tr>\n",
       "    <tr>\n",
       "      <th>min</th>\n",
       "      <td>4.018510e+05</td>\n",
       "      <td>4.535880e+05</td>\n",
       "    </tr>\n",
       "    <tr>\n",
       "      <th>25%</th>\n",
       "      <td>1.084668e+06</td>\n",
       "      <td>1.221404e+06</td>\n",
       "    </tr>\n",
       "    <tr>\n",
       "      <th>50%</th>\n",
       "      <td>3.066433e+06</td>\n",
       "      <td>3.390548e+06</td>\n",
       "    </tr>\n",
       "    <tr>\n",
       "      <th>75%</th>\n",
       "      <td>5.469885e+06</td>\n",
       "      <td>6.059158e+06</td>\n",
       "    </tr>\n",
       "    <tr>\n",
       "      <th>max</th>\n",
       "      <td>2.265458e+08</td>\n",
       "      <td>2.487099e+08</td>\n",
       "    </tr>\n",
       "  </tbody>\n",
       "</table>\n",
       "</div>"
      ],
      "text/plain": [
       "       Population as of1980 census  Population as of1990 census\n",
       "count                 5.200000e+01                 5.200000e+01\n",
       "mean                  8.713300e+06                 9.565764e+06\n",
       "std                   3.114971e+07                 3.423979e+07\n",
       "min                   4.018510e+05                 4.535880e+05\n",
       "25%                   1.084668e+06                 1.221404e+06\n",
       "50%                   3.066433e+06                 3.390548e+06\n",
       "75%                   5.469885e+06                 6.059158e+06\n",
       "max                   2.265458e+08                 2.487099e+08"
      ]
     },
     "execution_count": 13,
     "metadata": {},
     "output_type": "execute_result"
    }
   ],
   "source": [
    "table_number_1.describe()"
   ]
  },
  {
   "cell_type": "code",
   "execution_count": null,
   "id": "eeeb9f76",
   "metadata": {},
   "outputs": [],
   "source": []
  },
  {
   "cell_type": "code",
   "execution_count": null,
   "id": "0d59dafa",
   "metadata": {},
   "outputs": [],
   "source": [
    "ppl1990 = [DFwiki[0]]"
   ]
  },
  {
   "cell_type": "code",
   "execution_count": null,
   "id": "8bbf5fdd",
   "metadata": {},
   "outputs": [],
   "source": [
    "print(ppl1990)"
   ]
  },
  {
   "cell_type": "code",
   "execution_count": null,
   "id": "a8ebb8e3",
   "metadata": {},
   "outputs": [],
   "source": [
    "len(DFwiki[0])"
   ]
  },
  {
   "cell_type": "code",
   "execution_count": null,
   "id": "a5f7e5a2",
   "metadata": {},
   "outputs": [],
   "source": [
    "print(DFwiki[0])"
   ]
  },
  {
   "cell_type": "code",
   "execution_count": null,
   "id": "92245f3c",
   "metadata": {},
   "outputs": [],
   "source": []
  }
 ],
 "metadata": {
  "kernelspec": {
   "display_name": "Python 3 (ipykernel)",
   "language": "python",
   "name": "python3"
  },
  "language_info": {
   "codemirror_mode": {
    "name": "ipython",
    "version": 3
   },
   "file_extension": ".py",
   "mimetype": "text/x-python",
   "name": "python",
   "nbconvert_exporter": "python",
   "pygments_lexer": "ipython3",
   "version": "3.9.13"
  }
 },
 "nbformat": 4,
 "nbformat_minor": 5
}
